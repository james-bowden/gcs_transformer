{
 "cells": [
  {
   "cell_type": "code",
   "execution_count": 1,
   "metadata": {},
   "outputs": [],
   "source": [
    "import numpy as np\n",
    "import os\n",
    "import matplotlib.pyplot as plt\n",
    "import pickle\n",
    "from tqdm import tqdm"
   ]
  },
  {
   "cell_type": "code",
   "execution_count": 3,
   "metadata": {},
   "outputs": [
    {
     "name": "stderr",
     "output_type": "stream",
     "text": [
      "  0%|          | 0/80535 [00:00<?, ?it/s]"
     ]
    },
    {
     "name": "stderr",
     "output_type": "stream",
     "text": [
      "100%|██████████| 80535/80535 [03:35<00:00, 373.33it/s]   \n"
     ]
    }
   ],
   "source": [
    "data_dir = '/home/will/Classwork/EE227B/new_mounted_dir/data_dir'\n",
    "tokenized_data_dir = '/home/will/Classwork/EE227B/new_mounted_dir/tokenized_data_dir'\n",
    "\n",
    "num_time_bins = 512\n",
    "num_space_bins = 1024\n",
    "\n",
    "time_max, time_min = 0.5, 0\n",
    "space_max, space_min = 1, -1\n",
    "\n",
    "for count, file_name in enumerate(tqdm(os.listdir(data_dir))):\n",
    "    try:\n",
    "        file_path = os.path.join(data_dir, file_name)\n",
    "        tokenized_file_path = os.path.join(tokenized_data_dir, file_name)\n",
    "\n",
    "        if os.path.exists(tokenized_file_path):\n",
    "            continue\n",
    "\n",
    "        data = np.load(file_path, allow_pickle=True)\n",
    "\n",
    "        space_list = []\n",
    "        time_list = []\n",
    "        total_time_list = []\n",
    "\n",
    "        for curve_params in data[\"trajs\"][\"curve_params\"]:\n",
    "            start = np.array([0, 0, 2]).reshape(3, 1)\n",
    "\n",
    "            delta_time_list = []\n",
    "            control_points_list = []\n",
    "\n",
    "            for bezier_params in curve_params:\n",
    "                start_time, end_time, control_points = bezier_params\n",
    "                delta_time_list.append(end_time - start_time)\n",
    "                control_points_list.append(control_points[:, 1:])\n",
    "\n",
    "            control_points_arr = np.concatenate(control_points_list, axis=1)\n",
    "            prev_control_points_arr = np.concatenate([start, control_points_arr[:, :-1]], axis=1)\n",
    "            control_points_diff_arr = control_points_arr - prev_control_points_arr\n",
    "\n",
    "            delta_time_arr = np.array(delta_time_list)\n",
    "\n",
    "            disc_diffs = np.round((control_points_diff_arr - space_min) / (space_max - space_min) * num_space_bins, 0).astype(int)\n",
    "            disc_diffs = np.clip(disc_diffs, 0, num_space_bins - 1).T.reshape(-1)\n",
    "\n",
    "            disc_delta_time = np.round((delta_time_arr - time_min) / (time_max - time_min) * num_time_bins, 0).astype(int)\n",
    "            disc_delta_time = np.clip(disc_delta_time, 0, num_time_bins - 1)\n",
    "\n",
    "            space_list.append(disc_diffs)\n",
    "            time_list.append(disc_delta_time)\n",
    "            total_time_list.append(end_time)\n",
    "\n",
    "        map_array = data[\"metadata\"][\"map\"]\n",
    "        map_array[0] += 12 # Shift the map cell type indicator by 12\n",
    "        map_array = np.transpose(map_array, [1, 2, 0])\n",
    "\n",
    "        H, W, C = map_array.shape\n",
    "        map_array = map_array.reshape(1, H * W, C)\n",
    "\n",
    "        tokenized_results = {\n",
    "            \"map\": map_array,\n",
    "            \"times\": np.array(total_time_list)[np.argsort(total_time_list)],\n",
    "            \"trajs\": {}\n",
    "        }\n",
    "        \n",
    "        for idx, sorted_idx in enumerate(np.argsort(total_time_list)):\n",
    "            disc_diffs = space_list[sorted_idx]\n",
    "            disc_delta_time = time_list[sorted_idx]\n",
    "\n",
    "            traj_array = np.concatenate([disc_delta_time.reshape(-1, 1) + num_space_bins, \n",
    "                                            disc_diffs.reshape(-1, 18)], axis=1).reshape(1, -1)\n",
    "            \n",
    "            tokenized_results[\"trajs\"][idx] = traj_array\n",
    "\n",
    "        with open(tokenized_file_path, \"wb\") as f:\n",
    "            pickle.dump(tokenized_results, f)\n",
    "    except:\n",
    "        pass"
   ]
  },
  {
   "cell_type": "code",
   "execution_count": null,
   "metadata": {},
   "outputs": [],
   "source": []
  }
 ],
 "metadata": {
  "kernelspec": {
   "display_name": "ee227b",
   "language": "python",
   "name": "python3"
  },
  "language_info": {
   "codemirror_mode": {
    "name": "ipython",
    "version": 3
   },
   "file_extension": ".py",
   "mimetype": "text/x-python",
   "name": "python",
   "nbconvert_exporter": "python",
   "pygments_lexer": "ipython3",
   "version": "3.10.15"
  }
 },
 "nbformat": 4,
 "nbformat_minor": 2
}
